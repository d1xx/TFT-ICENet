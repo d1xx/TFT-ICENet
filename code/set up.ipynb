{
 "cells": [
  {
   "cell_type": "code",
   "execution_count": 1,
   "id": "d4d225c3",
   "metadata": {
    "tags": []
   },
   "outputs": [
    {
     "name": "stdout",
     "output_type": "stream",
     "text": [
      "data.shape (11485, 5)\n",
      "test_x.shape (11374, 96, 5)\n",
      "test_y.shape (11374, 16, 1)\n",
      "(11374, 96, 5) (11374, 16, 1)\n"
     ]
    }
   ],
   "source": [
    "%run \"数据处理.ipynb\""
   ]
  },
  {
   "cell_type": "code",
   "execution_count": 2,
   "id": "bc21e9f0",
   "metadata": {
    "tags": []
   },
   "outputs": [
    {
     "name": "stdout",
     "output_type": "stream",
     "text": [
      "allnumber 11374\n",
      "trainnum 9099\n",
      "testnum 2275\n",
      "\n",
      "torch.Size([512, 96, 5])\n",
      "torch.Size([512, 16, 1])\n",
      "----------------\n",
      "torch.Size([512, 96, 5])\n",
      "torch.Size([512, 16, 1])\n"
     ]
    }
   ],
   "source": [
    "from torch.utils.data import DataLoader, TensorDataset, Subset\n",
    "\n",
    "# 打包x和y\n",
    "x = torch.tensor(test_x, dtype=torch.float32)\n",
    "y = torch.tensor(test_y, dtype=torch.float32)\n",
    "dataset = TensorDataset(x, y) \n",
    "\n",
    "allnumber = x.size(0)\n",
    "print('allnumber',allnumber)\n",
    "\n",
    "train_index = np.arange(int(allnumber * 0.8))\n",
    "trainnum = len(train_index)\n",
    "print('trainnum',trainnum)\n",
    "\n",
    "test_index = np.arange(int(allnumber * 0.8), allnumber)\n",
    "testnum = len(test_index)\n",
    "print('testnum',testnum)\n",
    "print()\n",
    "\n",
    "train_all = Subset(dataset, train_index)\n",
    "#print(len(train_all))\n",
    "test_all = Subset(dataset, test_index)\n",
    "\n",
    "train_batch = DataLoader(train_all, batch_size=512)\n",
    "test_batch = DataLoader(test_all, batch_size=512)\n",
    "\n",
    "# batch_size time_windows feature\n",
    "for bat_x, bat_y in train_batch:\n",
    "    print(bat_x.shape)\n",
    "    print(bat_y.shape)\n",
    "    break\n",
    "    \n",
    "print('----------------')\n",
    "\n",
    "for bat_x, bat_y in test_batch:\n",
    "    print(bat_x.shape)\n",
    "    print(bat_y.shape)\n",
    "    break"
   ]
  },
  {
   "cell_type": "code",
   "execution_count": 3,
   "id": "43bfbb06",
   "metadata": {
    "tags": []
   },
   "outputs": [
    {
     "name": "stdout",
     "output_type": "stream",
     "text": [
      "y_true (11389, 1)\n",
      "y_true_train (9114, 1)\n",
      "y_true_test (2290, 1)\n"
     ]
    }
   ],
   "source": [
    "y_true = data_y[time_window:]\n",
    "\n",
    "y_true_train = y_true[0:trainnum+time_step-1]\n",
    "y_true_test = y_true[trainnum:]\n",
    "\n",
    "print('y_true',y_true.shape)\n",
    "print('y_true_train',y_true_train.shape)\n",
    "print('y_true_test',y_true_test.shape)\n"
   ]
  },
  {
   "cell_type": "code",
   "execution_count": null,
   "id": "eb8bdf65-51e2-41de-a5ad-7f1f975034ad",
   "metadata": {},
   "outputs": [],
   "source": []
  }
 ],
 "metadata": {
  "kernelspec": {
   "display_name": "Python 3 (ipykernel)",
   "language": "python",
   "name": "python3"
  },
  "language_info": {
   "codemirror_mode": {
    "name": "ipython",
    "version": 3
   },
   "file_extension": ".py",
   "mimetype": "text/x-python",
   "name": "python",
   "nbconvert_exporter": "python",
   "pygments_lexer": "ipython3",
   "version": "3.11.3"
  }
 },
 "nbformat": 4,
 "nbformat_minor": 5
}
